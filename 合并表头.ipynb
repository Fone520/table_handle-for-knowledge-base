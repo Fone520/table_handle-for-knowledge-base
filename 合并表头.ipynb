{
 "cells": [
  {
   "cell_type": "code",
   "execution_count": 4,
   "id": "5b5d385b-4e79-443c-8cad-54e467314c22",
   "metadata": {},
   "outputs": [],
   "source": [
    "import pandas as pd\n",
    "import numpy as np\n",
    "import re\n",
    "\n",
    "filepath = r\"D:\\Documents\\Pictures\\tmp\\4.xlsx\"\n",
    "df = pd.read_excel(filepath, header=None)\n",
    "#根据表格内容设计定要求合并的表头的行数和列数\n",
    "header_row_num = 2\n",
    "header_col_num = 1\n",
    "#合并水平表头\n",
    "def combine_header(df, header_row_num, header_col_num):\n",
    "    def combine_list(data, axis):\n",
    "        def remove_duplicates(lst):\n",
    "            seen = set()\n",
    "            result = []\n",
    "            for item in lst:\n",
    "                if item not in seen:\n",
    "                    seen.add(item)\n",
    "                    result.append(item)\n",
    "            return result\n",
    "        \n",
    "        results = []\n",
    "        if axis == 0:\n",
    "            array = data.to_numpy().T\n",
    "        else:\n",
    "            array = data.to_numpy()\n",
    "        for l in array:\n",
    "            results.append(','.join(remove_duplicates(list(map(lambda x:str(x), l)))))\n",
    "        return results\n",
    "    df_h = df[0:header_row_num]\n",
    "    df.iloc[header_row_num-1, :] = combine_list(df_h, 0)\n",
    "    df = df.iloc[header_row_num-1:,:]\n",
    "    df_v = df.iloc[:,:header_col_num]\n",
    "    df.iloc[:,header_col_num-1] = combine_list(df_v, 1)\n",
    "    df = df.iloc[:, header_col_num-1:]\n",
    "    #print(df[:,header_col_num])\n",
    "    return df\n",
    "\n",
    "df = combine_header(df, 2, 1)\n",
    "df = df.map(lambda x:str(x).replace('\\n', ''))\n",
    "#df.to_string(filepath.replace('.xlsx', '.txt'), index=False)\n",
    "df = df.to_string(index=False)\n",
    "df = re.sub(r'[^\\S\\n]+', ' ', df)\n",
    "df = re.sub(r'\\n\\s*', '\\n', df)\n",
    "with open(filepath.replace('.xlsx', '.txt'), 'w', encoding='utf8') as f:\n",
    "    f.write(df)"
   ]
  }
 ],
 "metadata": {
  "kernelspec": {
   "display_name": "Python 3 (ipykernel)",
   "language": "python",
   "name": "python3"
  },
  "language_info": {
   "codemirror_mode": {
    "name": "ipython",
    "version": 3
   },
   "file_extension": ".py",
   "mimetype": "text/x-python",
   "name": "python",
   "nbconvert_exporter": "python",
   "pygments_lexer": "ipython3",
   "version": "3.12.1"
  }
 },
 "nbformat": 4,
 "nbformat_minor": 5
}
